{
 "cells": [
  {
   "cell_type": "code",
   "execution_count": 1,
   "metadata": {},
   "outputs": [
    {
     "name": "stderr",
     "output_type": "stream",
     "text": [
      "/home/marco/anaconda3/envs/IR/lib/python3.9/site-packages/gensim/similarities/__init__.py:15: UserWarning: The gensim.similarities.levenshtein submodule is disabled, because the optional Levenshtein package <https://pypi.org/project/python-Levenshtein/> is unavailable. Install Levenhstein (e.g. `pip install python-Levenshtein`) to suppress this warning.\n",
      "  warnings.warn(msg)\n"
     ]
    }
   ],
   "source": [
    "from pyserini.index import IndexReader \n",
    "from pyserini.search import SimpleSearcher, querybuilder\n",
    "import gensim\n",
    "from gensim.models.word2vec import Word2Vec\n",
    "from gensim.models import KeyedVectors\n",
    "import gensim.downloader as api\n",
    "import json\n",
    "import torch\n",
    "import numpy as np\n",
    "import codecs\n",
    "from bs4 import BeautifulSoup\n",
    "from tqdm import tqdm\n",
    "from utils import *\n",
    "import re\n",
    "\n",
    "import nltk\n",
    "from nltk.corpus import stopwords\n",
    "from nltk.stem import PorterStemmer\n",
    "from nltk.tokenize import word_tokenize\n",
    "\n",
    "config = json.loads(open(\"config.json\", \"r\").read())\n",
    "index_path = config[\"index_path\"]\n",
    "topics_path = config[\"topics_path\"]\n",
    "qrels_path = config[\"qrels_path\"]\n",
    "index_path\n",
    "device = torch.device('cpu')\n",
    "regex = re.compile('[^a-zA-Z]')"
   ]
  },
  {
   "cell_type": "code",
   "execution_count": 2,
   "metadata": {},
   "outputs": [],
   "source": [
    "# wiki_50 = api.load('glove-wiki-gigaword-50')\n",
    "# wiki_300 = api.load('glove-wiki-gigaword-300')\n",
    "# wiki_fast = api.load('fasttext-wiki-news-subwords-300')\n",
    "# google = api.load('word2vec-google-news-300')\n",
    "\n",
    "wiki_300 = KeyedVectors.load_word2vec_format('~/gensim-data/glove-wiki-gigaword-300/glove-wiki-gigaword-300.txt', binary=False)\n"
   ]
  },
  {
   "cell_type": "code",
   "execution_count": 3,
   "metadata": {},
   "outputs": [
    {
     "data": {
      "text/plain": [
       "[('organised', 0.6641563773155212),\n",
       " ('criminal', 0.5866537094116211),\n",
       " ('crimes', 0.5811451077461243),\n",
       " ('organizations', 0.5762122273445129),\n",
       " ('organization', 0.5691279172897339),\n",
       " ('trafficking', 0.5649696588516235),\n",
       " ('terrorism', 0.5468315482139587),\n",
       " ('activities', 0.5334997773170471),\n",
       " ('involved', 0.5092121958732605),\n",
       " ('corruption', 0.5076022744178772)]"
      ]
     },
     "execution_count": 3,
     "metadata": {},
     "output_type": "execute_result"
    }
   ],
   "source": [
    "wiki_300.most_similar(['international', 'organized', 'crime'])"
   ]
  },
  {
   "cell_type": "code",
   "execution_count": 4,
   "metadata": {},
   "outputs": [
    {
     "name": "stdout",
     "output_type": "stream",
     "text": [
      "hubble space telescope nasa spacecraft observatory\n",
      "FT933-6678 27.772499084472656\n",
      "FT934-5418 27.051700592041016\n",
      "LA040190-0178 25.658899307250977\n",
      "LA041090-0148 25.251100540161133\n",
      "FBIS3-42547 25.09709930419922\n",
      "FBIS4-46650 24.89459991455078\n",
      "LA050390-0109 24.694799423217773\n",
      "LA081090-0078 24.25629997253418\n",
      "LA071490-0091 24.17329978942871\n",
      "LA060890-0124 24.135099411010742\n",
      "LA081790-0164 24.1112003326416\n",
      "LA052890-0021 23.854400634765625\n",
      "LA070390-0084 23.843700408935547\n",
      "LA051590-0074 23.284799575805664\n",
      "LA051490-0110 23.137399673461914\n",
      "LA080990-0242 23.053499221801758\n",
      "FT921-7107 22.52090072631836\n",
      "FT933-6946 22.48889923095703\n",
      "LA071090-0047 22.33839988708496\n",
      "FT944-128 22.332000732421875\n"
     ]
    }
   ],
   "source": [
    "topic = 'hubble space telescope'\n",
    "et = expand_query(topic, wiki_300, len(topic.split()))\n",
    "print(et)\n",
    "hits = Searcher.search(et, 20)\n",
    "for h in hits:\n",
    "    print(h.docid, h.score)\n"
   ]
  },
  {
   "cell_type": "code",
   "execution_count": 5,
   "metadata": {},
   "outputs": [
    {
     "data": {
      "text/plain": [
       "'hubble space telescope nasa spacecraft observatory'"
      ]
     },
     "execution_count": 5,
     "metadata": {},
     "output_type": "execute_result"
    }
   ],
   "source": [
    "expanded_topic = expand_query(topic, wiki_300, len(topic.split()), 0)\n",
    "expanded_topic"
   ]
  },
  {
   "cell_type": "markdown",
   "metadata": {},
   "source": [
    "# Results"
   ]
  },
  {
   "cell_type": "code",
   "execution_count": 6,
   "metadata": {},
   "outputs": [
    {
     "name": "stdout",
     "output_type": "stream",
     "text": [
      "hubble space telescope nasa spacecraft observatory\n",
      "FT934-5418\n",
      "LA040190-0178\n",
      "LA041090-0148\n",
      "LA052890-0021\n",
      "LA050390-0109\n",
      "FT933-6678\n",
      "LA081090-0078\n",
      "FT921-7107\n",
      "LA071090-0047\n",
      "LA071490-0091\n"
     ]
    }
   ],
   "source": [
    "hits = Searcher.weighted_search(expanded_topic, 10, len(topic.split()), (2.0, 1.0))\n",
    "print(expanded_topic)\n",
    "for h in hits:\n",
    "    print(h.docid)"
   ]
  },
  {
   "cell_type": "markdown",
   "metadata": {},
   "source": [
    "# Results"
   ]
  },
  {
   "cell_type": "code",
   "execution_count": 7,
   "metadata": {},
   "outputs": [
    {
     "name": "stderr",
     "output_type": "stream",
     "text": [
      "100%|██████████| 250/250 [00:17<00:00, 14.66it/s]\n",
      "100%|██████████| 250/250 [01:05<00:00,  3.81it/s]\n"
     ]
    }
   ],
   "source": [
    "#k = nro. results per topic\n",
    "#n = nro. extra words\n",
    "def make_results(model, n:int = 0, dynamic = False, k:int = 25, threshold = .0):\n",
    "    topics = get_topics(topics_path)\n",
    "    results = \"\"\n",
    "    for i in tqdm(topics):\n",
    "        ranking = \"\"\n",
    "        topic = topics[i].lower()\n",
    "        topic = regex.sub('', topic)\n",
    "        if dynamic:\n",
    "            extra_words_count = 0;\n",
    "            for word in topics[i].split():\n",
    "                if word not in stopwords.words('english'):\n",
    "                    extra_words_count+=1\n",
    "            expanded_topic = expand_query(topics[i], model, extra_words_count, threshold)\n",
    "            \n",
    "            hits = Searcher.weighted_search(expanded_topic, k, len(expanded_topic.split())-extra_words_count, (1.0, 0.5))\n",
    "        elif n > 0 and not dynamic: \n",
    "            expanded_topic = expand_query(topics[i], model, n, threshold)\n",
    "            hits = Searcher.weighted_search(expanded_topic, k, len(expanded_topic.split())-n, (1.0, 0.5))\n",
    "        else:\n",
    "            hits = Searcher.search(topics[i], k=k)\n",
    "            \n",
    "        for r, h in enumerate(hits):\n",
    "            ranking += f\"{i} 0 {h.docid} {r+1} {h.score} RUN1\\n\"\n",
    "        results += ranking\n",
    "        \n",
    "    filename = \"\"\n",
    "    filename = f'results/results_{n}_{k}_{threshold*100}.txt'\n",
    "            \n",
    "    f = open(filename, 'w')\n",
    "    f.write(results)\n",
    "    f.close()\n",
    "\n",
    "make_results(wiki_300, 0, k=1000 ) # no expanded query\n",
    "make_results(wiki_300, 'x', dynamic=True, k=1000)"
   ]
  },
  {
   "cell_type": "code",
   "execution_count": null,
   "metadata": {},
   "outputs": [
    {
     "name": "stdout",
     "output_type": "stream",
     "text": [
      "0 1000 0.671331913774708\n"
     ]
    }
   ],
   "source": [
    "metric_0 = 0\n",
    "k=1000\n",
    "labels_gen = query_labels_from_file(qrels_path, f'results/results_0_{k}_0.0.txt')\n",
    "r = 0\n",
    "for labels in labels_gen:\n",
    "    metric_0+=NDCG(labels, k)\n",
    "    r+=1\n",
    "    \n",
    "print(f\"0 {k} {metric_0/r}\")"
   ]
  },
  {
   "cell_type": "code",
   "execution_count": null,
   "metadata": {},
   "outputs": [
    {
     "name": "stdout",
     "output_type": "stream",
     "text": [
      "x 1000 0.6117902328697408\n"
     ]
    }
   ],
   "source": [
    "metric = 0\n",
    "\n",
    "labels_gen = query_labels_from_file(qrels_path, f'results/results_x_{k}_0.0.txt')\n",
    "r = 0\n",
    "for labels in labels_gen:\n",
    "    metric+=NDCG(labels, k)\n",
    "    r+=1\n",
    "     \n",
    "print(f\"x {k} {metric/r}\")"
   ]
  },
  {
   "cell_type": "markdown",
   "metadata": {},
   "source": [
    "# Relevance feedback"
   ]
  },
  {
   "cell_type": "code",
   "execution_count": 33,
   "metadata": {},
   "outputs": [
    {
     "data": {
      "text/plain": [
       "'hubble space telescope nasa launch mission'"
      ]
     },
     "execution_count": 33,
     "metadata": {},
     "output_type": "execute_result"
    }
   ],
   "source": [
    "expand_query_using_relevance_feedback(wiki_300, topic)"
   ]
  },
  {
   "cell_type": "code",
   "execution_count": 8,
   "metadata": {},
   "outputs": [
    {
     "name": "stderr",
     "output_type": "stream",
     "text": [
      "100%|██████████| 250/250 [04:05<00:00,  1.02it/s]\n"
     ]
    }
   ],
   "source": [
    "#k = nro. results per topic\n",
    "#n = nro. extra words\n",
    "\n",
    "\n",
    "\n",
    "\n",
    "# make_results(wiki_300, 0, k=1000 ) # no expanded query\n",
    "# make_results(wiki_300, 'x', dynamic=True, k=1000)\n",
    "def make_relevancefeedback_results(model, k=25, top_docs=10):\n",
    "    results = \"\"\n",
    "    topics = get_topics(topics_path)\n",
    "    for i in tqdm(topics):\n",
    "        ranking = \"\"\n",
    "        expanded_topic = expand_query_using_relevance_feedback(model, topics[i], top_docs=top_docs)\n",
    "        # hits = Searcher.search(expanded_topic, k=k)\n",
    "        extra_words_count = 0;\n",
    "        for word in topics[i].split():\n",
    "            if word not in stopwords.words('english'):\n",
    "                extra_words_count+=1\n",
    "        hits = Searcher.weighted_search(expanded_topic, k, len(expanded_topic.split())-extra_words_count, (1.0, 0.5))\n",
    "        for r, h in enumerate(hits):\n",
    "            ranking += f\"{i} 0 {h.docid} {r+1} {h.score} RUN1\\n\"\n",
    "        results += ranking\n",
    "        \n",
    "    filename = f\"relevance_feedback_results/results_{top_docs}.txt\"\n",
    "    f = open(filename, 'w')\n",
    "    f.write(results)\n",
    "    f.close()\n",
    "        \n",
    "make_relevancefeedback_results(wiki_300, k=1000, top_docs=25) "
   ]
  },
  {
   "cell_type": "code",
   "execution_count": 30,
   "metadata": {},
   "outputs": [
    {
     "name": "stdout",
     "output_type": "stream",
     "text": [
      "ndcg_0@25 1000 0.43750194853180036\n",
      "recall_0@25 1000 0.29842566152496647\n"
     ]
    }
   ],
   "source": [
    "ndcg_0 = 0\n",
    "recall_0 = 0\n",
    "precision_0 = 0\n",
    "k = 1000\n",
    "labels_gen = query_labels_from_file(qrels_path, f'results/results_0_1000_0.0.txt')\n",
    "r = 0\n",
    "for labels in labels_gen:\n",
    "    ndcg_0+=NDCG(labels, 25)\n",
    "    recall_0 += recall(labels, 25)\n",
    "    r+=1\n",
    "    \n",
    "print(f\"ndcg_0@25 {k} {ndcg_0/r}\")\n",
    "print(f\"recall_0@25 {k} {recall_0/r}\")"
   ]
  },
  {
   "cell_type": "code",
   "execution_count": 31,
   "metadata": {},
   "outputs": [
    {
     "name": "stdout",
     "output_type": "stream",
     "text": [
      "ndcg_x@25 1000 0.3684083961496234\n",
      "recall_x@25 1000 0.26026587662246026\n"
     ]
    }
   ],
   "source": [
    "ndcg_x = 0\n",
    "recall_x = 0\n",
    "precision_x = 0\n",
    "\n",
    "labels_gen = query_labels_from_file(qrels_path, f'results/results_x_1000_0.0.txt')\n",
    "r = 0\n",
    "for labels in labels_gen:\n",
    "    ndcg_x += NDCG(labels, 25)\n",
    "    recall_x += recall(labels, 25)\n",
    "    r+=1\n",
    "     \n",
    "print(f\"ndcg_x@25 {k} {ndcg_x/r}\")\n",
    "print(f\"recall_x@25 {k} {recall_x/r}\")\n"
   ]
  },
  {
   "cell_type": "code",
   "execution_count": 32,
   "metadata": {},
   "outputs": [
    {
     "name": "stdout",
     "output_type": "stream",
     "text": [
      "ndcg_relevance_feedback@25 1000 0.3923254915303565\n",
      "recall_relevance_feedback@25 1000 0.2722521996026765\n"
     ]
    }
   ],
   "source": [
    "ndcg_relevance_feedback = 0\n",
    "recall_relevance_feedback = 0\n",
    "precision_relevance_feedback = 0\n",
    "\n",
    "p = 25\n",
    "labels_gen = query_labels_from_file(qrels_path, f\"relevance_feedback_results/results_{p}.txt\")\n",
    "r = 0\n",
    "for labels in labels_gen:\n",
    "    ndcg_relevance_feedback += NDCG(labels, 25)\n",
    "    recall_relevance_feedback += recall(labels, 25)\n",
    "    r+=1\n",
    "    \n",
    "print(f\"ndcg_relevance_feedback@25 {k} {ndcg_relevance_feedback/r}\")\n",
    "print(f\"recall_relevance_feedback@25 {k} {recall_relevance_feedback/r}\")\n",
    "\n"
   ]
  },
  {
   "cell_type": "code",
   "execution_count": null,
   "metadata": {},
   "outputs": [],
   "source": []
  }
 ],
 "metadata": {
  "interpreter": {
   "hash": "916dbcbb3f70747c44a77c7bcd40155683ae19c65e1c03b4aa3499c5328201f1"
  },
  "kernelspec": {
   "display_name": "Python 3 (ipykernel)",
   "language": "python",
   "name": "python3"
  },
  "language_info": {
   "codemirror_mode": {
    "name": "ipython",
    "version": 3
   },
   "file_extension": ".py",
   "mimetype": "text/x-python",
   "name": "python",
   "nbconvert_exporter": "python",
   "pygments_lexer": "ipython3",
   "version": "3.9.7"
  }
 },
 "nbformat": 4,
 "nbformat_minor": 2
}
