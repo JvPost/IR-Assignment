{
 "cells": [
  {
   "cell_type": "code",
   "execution_count": 1,
   "metadata": {},
   "outputs": [
    {
     "name": "stderr",
     "output_type": "stream",
     "text": [
      "/home/marco/anaconda3/envs/IR/lib/python3.9/site-packages/gensim/similarities/__init__.py:15: UserWarning: The gensim.similarities.levenshtein submodule is disabled, because the optional Levenshtein package <https://pypi.org/project/python-Levenshtein/> is unavailable. Install Levenhstein (e.g. `pip install python-Levenshtein`) to suppress this warning.\n",
      "  warnings.warn(msg)\n"
     ]
    }
   ],
   "source": [
    "from pyserini.index import IndexReader \n",
    "from pyserini.search import SimpleSearcher, querybuilder\n",
    "import gensim\n",
    "from gensim.models.word2vec import Word2Vec\n",
    "from gensim.models import KeyedVectors\n",
    "import gensim.downloader as api\n",
    "import json\n",
    "import torch\n",
    "import numpy as np\n",
    "import codecs\n",
    "from bs4 import BeautifulSoup\n",
    "from tqdm import tqdm\n",
    "from utils import *\n",
    "import re\n",
    "\n",
    "import nltk\n",
    "from nltk.corpus import stopwords\n",
    "from nltk.stem import PorterStemmer\n",
    "from nltk.tokenize import word_tokenize\n",
    "\n",
    "config = json.loads(open(\"config.json\", \"r\").read())\n",
    "index_path = config[\"index_path\"]\n",
    "topics_path = config[\"topics_path\"]\n",
    "qrels_path = config[\"qrels_path\"]\n",
    "index_path\n",
    "device = torch.device('cpu')\n",
    "regex = re.compile('[^a-zA-Z]')"
   ]
  },
  {
   "cell_type": "code",
   "execution_count": 30,
   "metadata": {},
   "outputs": [],
   "source": [
    "# wiki_50 = api.load('glove-wiki-gigaword-50')\n",
    "# wiki_300 = api.load('glove-wiki-gigaword-300')\n",
    "# wiki_fast = api.load('fasttext-wiki-news-subwords-300')\n",
    "# google = api.load('word2vec-google-news-300')\n",
    "\n",
    "wiki_300 = KeyedVectors.load_word2vec_format('~/gensim-data/glove-wiki-gigaword-300/glove-wiki-gigaword-300.txt', binary=False)\n"
   ]
  },
  {
   "cell_type": "code",
   "execution_count": 3,
   "metadata": {},
   "outputs": [
    {
     "data": {
      "text/plain": [
       "[('organised', 0.6641563773155212),\n",
       " ('criminal', 0.5866537094116211),\n",
       " ('crimes', 0.5811451077461243),\n",
       " ('organizations', 0.5762122273445129),\n",
       " ('organization', 0.5691279172897339),\n",
       " ('trafficking', 0.5649696588516235),\n",
       " ('terrorism', 0.5468315482139587),\n",
       " ('activities', 0.5334997773170471),\n",
       " ('involved', 0.5092121958732605),\n",
       " ('corruption', 0.5076022744178772)]"
      ]
     },
     "execution_count": 3,
     "metadata": {},
     "output_type": "execute_result"
    }
   ],
   "source": [
    "wiki_300.most_similar(['international', 'organized', 'crime'])"
   ]
  },
  {
   "cell_type": "code",
   "execution_count": 4,
   "metadata": {},
   "outputs": [
    {
     "name": "stdout",
     "output_type": "stream",
     "text": [
      "hubble space telescope nasa spacecraft observatory\n",
      "FT933-6678 27.772499084472656\n",
      "FT934-5418 27.051700592041016\n",
      "LA040190-0178 25.658899307250977\n",
      "LA041090-0148 25.251100540161133\n",
      "FBIS3-42547 25.09709930419922\n",
      "FBIS4-46650 24.89459991455078\n",
      "LA050390-0109 24.694799423217773\n",
      "LA081090-0078 24.25629997253418\n",
      "LA071490-0091 24.17329978942871\n",
      "LA060890-0124 24.135099411010742\n",
      "LA081790-0164 24.1112003326416\n",
      "LA052890-0021 23.854400634765625\n",
      "LA070390-0084 23.843700408935547\n",
      "LA051590-0074 23.284799575805664\n",
      "LA051490-0110 23.137399673461914\n",
      "LA080990-0242 23.053499221801758\n",
      "FT921-7107 22.52090072631836\n",
      "FT933-6946 22.48889923095703\n",
      "LA071090-0047 22.33839988708496\n",
      "FT944-128 22.332000732421875\n"
     ]
    }
   ],
   "source": [
    "topic = 'hubble space telescope'\n",
    "et = expand_query(topic, wiki_300, len(topic.split()))\n",
    "print(et)\n",
    "hits = Searcher.search(et, 20)\n",
    "for h in hits:\n",
    "    print(h.docid, h.score)\n"
   ]
  },
  {
   "cell_type": "code",
   "execution_count": 5,
   "metadata": {},
   "outputs": [
    {
     "data": {
      "text/plain": [
       "'hubble space telescope nasa spacecraft observatory'"
      ]
     },
     "execution_count": 5,
     "metadata": {},
     "output_type": "execute_result"
    }
   ],
   "source": [
    "expanded_topic = expand_query(topic, wiki_300, len(topic.split()), 0)\n",
    "expanded_topic"
   ]
  },
  {
   "cell_type": "markdown",
   "metadata": {},
   "source": [
    "# Results"
   ]
  },
  {
   "cell_type": "code",
   "execution_count": 6,
   "metadata": {},
   "outputs": [
    {
     "name": "stdout",
     "output_type": "stream",
     "text": [
      "hubble space telescope nasa spacecraft observatory\n",
      "FT934-5418\n",
      "LA040190-0178\n",
      "LA041090-0148\n",
      "LA052890-0021\n",
      "LA050390-0109\n",
      "FT933-6678\n",
      "LA081090-0078\n",
      "FT921-7107\n",
      "LA071090-0047\n",
      "LA071490-0091\n"
     ]
    }
   ],
   "source": [
    "hits = Searcher.weighted_search(expanded_topic, 10, len(topic.split()), (2.0, 1.0))\n",
    "print(expanded_topic)\n",
    "for h in hits:\n",
    "    print(h.docid)"
   ]
  },
  {
   "cell_type": "markdown",
   "metadata": {},
   "source": [
    "# Results"
   ]
  },
  {
   "cell_type": "code",
   "execution_count": 31,
   "metadata": {},
   "outputs": [
    {
     "name": "stderr",
     "output_type": "stream",
     "text": [
      "100%|██████████| 250/250 [00:16<00:00, 15.22it/s]\n",
      "100%|██████████| 250/250 [07:09<00:00,  1.72s/it]\n"
     ]
    }
   ],
   "source": [
    "#k = nro. results per topic\n",
    "#n = nro. extra words\n",
    "def make_results(model, n:int = 0, dynamic = False, k:int = 25, threshold = .0):\n",
    "    topics = get_topics(topics_path)\n",
    "    results = \"\"\n",
    "    for i in tqdm(topics):\n",
    "        ranking = \"\"\n",
    "        topic = topics[i].lower()\n",
    "        topic = regex.sub('', topic)\n",
    "        if dynamic:\n",
    "            extra_words_count = 0;\n",
    "            for word in topics[i].split():\n",
    "                if word not in stopwords.words('english'):\n",
    "                    extra_words_count+=1\n",
    "            expanded_topic = expand_query(topics[i], model, extra_words_count, threshold)\n",
    "            \n",
    "            hits = Searcher.weighted_search(expanded_topic, k, len(expanded_topic.split())-extra_words_count, (1.0, 0.5))\n",
    "        elif n > 0 and not dynamic: \n",
    "            expanded_topic = expand_query(topics[i], model, n, threshold)\n",
    "            hits = Searcher.weighted_search(expanded_topic, k, len(expanded_topic.split())-n, (1.0, 0.5))\n",
    "        else:\n",
    "            hits = Searcher.search(topics[i], k=k)\n",
    "            \n",
    "        for r, h in enumerate(hits):\n",
    "            ranking += f\"{i} 0 {h.docid} {r+1} {h.score} RUN1\\n\"\n",
    "        results += ranking\n",
    "        \n",
    "    filename = \"\"\n",
    "    filename = f'results/results_{n}_{k}_{threshold*100}.txt'\n",
    "            \n",
    "    f = open(filename, 'w')\n",
    "    f.write(results)\n",
    "    f.close()\n",
    "\n",
    "make_results(wiki_300, 0, k=1000 ) # no expanded query\n",
    "make_results(wiki_300, 'x', dynamic=True, k=1000)"
   ]
  },
  {
   "cell_type": "code",
   "execution_count": 34,
   "metadata": {},
   "outputs": [
    {
     "name": "stdout",
     "output_type": "stream",
     "text": [
      "0 1000 0.671331913774708\n"
     ]
    }
   ],
   "source": [
    "metric_0 = 0\n",
    "k=1000\n",
    "labels_gen = query_labels_from_file(qrels_path, f'results/results_0_{k}_0.0.txt')\n",
    "r = 0\n",
    "for labels in labels_gen:\n",
    "    metric_0+=NDCG(labels, k)\n",
    "    r+=1\n",
    "    \n",
    "print(f\"0 {k} {metric_0/r}\")"
   ]
  },
  {
   "cell_type": "code",
   "execution_count": 35,
   "metadata": {},
   "outputs": [
    {
     "name": "stdout",
     "output_type": "stream",
     "text": [
      "x 1000 0.6260634673142748\n"
     ]
    }
   ],
   "source": [
    "metric = 0\n",
    "\n",
    "labels_gen = query_labels_from_file(qrels_path, f'results/results_x_{k}_0.0.txt')\n",
    "r = 0\n",
    "for labels in labels_gen:\n",
    "    metric+=NDCG(labels, k)\n",
    "    r+=1\n",
    "     \n",
    "print(f\"x {k} {metric/r}\")"
   ]
  },
  {
   "cell_type": "markdown",
   "metadata": {},
   "source": [
    "# Relevance feedback"
   ]
  },
  {
   "cell_type": "code",
   "execution_count": 10,
   "metadata": {},
   "outputs": [
    {
     "data": {
      "text/plain": [
       "'hubble space telescope nasa mission launch'"
      ]
     },
     "execution_count": 10,
     "metadata": {},
     "output_type": "execute_result"
    }
   ],
   "source": [
    "expand_query_using_relevance_feedback(wiki_300, topic)"
   ]
  },
  {
   "cell_type": "code",
   "execution_count": 36,
   "metadata": {},
   "outputs": [
    {
     "name": "stderr",
     "output_type": "stream",
     "text": [
      "  2%|▏         | 4/250 [00:02<02:29,  1.64it/s]\n"
     ]
    },
    {
     "ename": "KeyboardInterrupt",
     "evalue": "",
     "output_type": "error",
     "traceback": [
      "\u001b[0;31m---------------------------------------------------------------------------\u001b[0m",
      "\u001b[0;31mKeyboardInterrupt\u001b[0m                         Traceback (most recent call last)",
      "\u001b[0;32m/tmp/ipykernel_6062/3831877036.py\u001b[0m in \u001b[0;36m<module>\u001b[0;34m\u001b[0m\n\u001b[1;32m     28\u001b[0m     \u001b[0mf\u001b[0m\u001b[0;34m.\u001b[0m\u001b[0mclose\u001b[0m\u001b[0;34m(\u001b[0m\u001b[0;34m)\u001b[0m\u001b[0;34m\u001b[0m\u001b[0;34m\u001b[0m\u001b[0m\n\u001b[1;32m     29\u001b[0m \u001b[0;34m\u001b[0m\u001b[0m\n\u001b[0;32m---> 30\u001b[0;31m \u001b[0mmake_relevancefeedback_results\u001b[0m\u001b[0;34m(\u001b[0m\u001b[0mwiki_300\u001b[0m\u001b[0;34m,\u001b[0m \u001b[0mk\u001b[0m\u001b[0;34m=\u001b[0m\u001b[0;36m1000\u001b[0m\u001b[0;34m,\u001b[0m \u001b[0mtop_docs\u001b[0m\u001b[0;34m=\u001b[0m\u001b[0;36m10\u001b[0m\u001b[0;34m)\u001b[0m\u001b[0;34m\u001b[0m\u001b[0;34m\u001b[0m\u001b[0m\n\u001b[0m",
      "\u001b[0;32m/tmp/ipykernel_6062/3831877036.py\u001b[0m in \u001b[0;36mmake_relevancefeedback_results\u001b[0;34m(model, k, top_docs)\u001b[0m\n\u001b[1;32m     12\u001b[0m     \u001b[0;32mfor\u001b[0m \u001b[0mi\u001b[0m \u001b[0;32min\u001b[0m \u001b[0mtqdm\u001b[0m\u001b[0;34m(\u001b[0m\u001b[0mtopics\u001b[0m\u001b[0;34m)\u001b[0m\u001b[0;34m:\u001b[0m\u001b[0;34m\u001b[0m\u001b[0;34m\u001b[0m\u001b[0m\n\u001b[1;32m     13\u001b[0m         \u001b[0mranking\u001b[0m \u001b[0;34m=\u001b[0m \u001b[0;34m\"\"\u001b[0m\u001b[0;34m\u001b[0m\u001b[0;34m\u001b[0m\u001b[0m\n\u001b[0;32m---> 14\u001b[0;31m         \u001b[0mexpanded_topic\u001b[0m \u001b[0;34m=\u001b[0m \u001b[0mexpand_query_using_relevance_feedback\u001b[0m\u001b[0;34m(\u001b[0m\u001b[0mmodel\u001b[0m\u001b[0;34m,\u001b[0m \u001b[0mtopics\u001b[0m\u001b[0;34m[\u001b[0m\u001b[0mi\u001b[0m\u001b[0;34m]\u001b[0m\u001b[0;34m,\u001b[0m \u001b[0mtop_docs\u001b[0m\u001b[0;34m=\u001b[0m\u001b[0mtop_docs\u001b[0m\u001b[0;34m)\u001b[0m\u001b[0;34m\u001b[0m\u001b[0;34m\u001b[0m\u001b[0m\n\u001b[0m\u001b[1;32m     15\u001b[0m         \u001b[0;31m# hits = Searcher.search(expanded_topic, k=k)\u001b[0m\u001b[0;34m\u001b[0m\u001b[0;34m\u001b[0m\u001b[0m\n\u001b[1;32m     16\u001b[0m         \u001b[0mextra_words_count\u001b[0m \u001b[0;34m=\u001b[0m \u001b[0;36m0\u001b[0m\u001b[0;34m;\u001b[0m\u001b[0;34m\u001b[0m\u001b[0;34m\u001b[0m\u001b[0m\n",
      "\u001b[0;32m~/Repos/IR-Assignment/utils.py\u001b[0m in \u001b[0;36mexpand_query_using_relevance_feedback\u001b[0;34m(model, topic, n, top_docs)\u001b[0m\n\u001b[1;32m    239\u001b[0m                 \u001b[0mn\u001b[0m \u001b[0;34m+=\u001b[0m \u001b[0;36m1\u001b[0m\u001b[0;34m\u001b[0m\u001b[0;34m\u001b[0m\u001b[0m\n\u001b[1;32m    240\u001b[0m \u001b[0;34m\u001b[0m\u001b[0m\n\u001b[0;32m--> 241\u001b[0;31m     \u001b[0mhits\u001b[0m \u001b[0;34m=\u001b[0m \u001b[0mSearcher\u001b[0m\u001b[0;34m.\u001b[0m\u001b[0msearch\u001b[0m\u001b[0;34m(\u001b[0m\u001b[0mtopic\u001b[0m\u001b[0;34m,\u001b[0m \u001b[0mtop_docs\u001b[0m\u001b[0;34m)\u001b[0m\u001b[0;34m\u001b[0m\u001b[0;34m\u001b[0m\u001b[0m\n\u001b[0m\u001b[1;32m    242\u001b[0m     \u001b[0mdoc_ids\u001b[0m \u001b[0;34m=\u001b[0m \u001b[0;34m[\u001b[0m\u001b[0mh\u001b[0m\u001b[0;34m.\u001b[0m\u001b[0mdocid\u001b[0m \u001b[0;32mfor\u001b[0m \u001b[0mh\u001b[0m \u001b[0;32min\u001b[0m \u001b[0mhits\u001b[0m\u001b[0;34m]\u001b[0m\u001b[0;34m\u001b[0m\u001b[0;34m\u001b[0m\u001b[0m\n\u001b[1;32m    243\u001b[0m     \u001b[0mdoc_vector\u001b[0m \u001b[0;34m=\u001b[0m \u001b[0mmerge_doc_vectors\u001b[0m\u001b[0;34m(\u001b[0m\u001b[0mdoc_ids\u001b[0m\u001b[0;34m)\u001b[0m\u001b[0;34m\u001b[0m\u001b[0;34m\u001b[0m\u001b[0m\n",
      "\u001b[0;32m~/Repos/IR-Assignment/utils.py\u001b[0m in \u001b[0;36msearch\u001b[0;34m(query, k)\u001b[0m\n\u001b[1;32m     27\u001b[0m     \u001b[0;34m@\u001b[0m\u001b[0mstaticmethod\u001b[0m\u001b[0;34m\u001b[0m\u001b[0;34m\u001b[0m\u001b[0m\n\u001b[1;32m     28\u001b[0m     \u001b[0;32mdef\u001b[0m \u001b[0msearch\u001b[0m\u001b[0;34m(\u001b[0m\u001b[0mquery\u001b[0m\u001b[0;34m:\u001b[0m \u001b[0mstr\u001b[0m\u001b[0;34m,\u001b[0m \u001b[0mk\u001b[0m\u001b[0;34m:\u001b[0m \u001b[0mint\u001b[0m\u001b[0;34m)\u001b[0m \u001b[0;34m->\u001b[0m \u001b[0mlist\u001b[0m\u001b[0;34m:\u001b[0m\u001b[0;34m\u001b[0m\u001b[0;34m\u001b[0m\u001b[0m\n\u001b[0;32m---> 29\u001b[0;31m         \u001b[0;32mreturn\u001b[0m \u001b[0mSearcher\u001b[0m\u001b[0;34m.\u001b[0m\u001b[0msearcher\u001b[0m\u001b[0;34m.\u001b[0m\u001b[0msearch\u001b[0m\u001b[0;34m(\u001b[0m\u001b[0mquery\u001b[0m\u001b[0;34m,\u001b[0m \u001b[0mk\u001b[0m\u001b[0;34m)\u001b[0m\u001b[0;34m;\u001b[0m\u001b[0;34m\u001b[0m\u001b[0;34m\u001b[0m\u001b[0m\n\u001b[0m\u001b[1;32m     30\u001b[0m \u001b[0;34m\u001b[0m\u001b[0m\n\u001b[1;32m     31\u001b[0m     \u001b[0;34m@\u001b[0m\u001b[0mstaticmethod\u001b[0m\u001b[0;34m\u001b[0m\u001b[0;34m\u001b[0m\u001b[0m\n",
      "\u001b[0;32m~/anaconda3/envs/IR/lib/python3.9/site-packages/pyserini/search/_searcher.py\u001b[0m in \u001b[0;36msearch\u001b[0;34m(self, q, k, query_generator, strip_segment_id, remove_dups)\u001b[0m\n\u001b[1;32m    114\u001b[0m             \u001b[0mhits\u001b[0m \u001b[0;34m=\u001b[0m \u001b[0mself\u001b[0m\u001b[0;34m.\u001b[0m\u001b[0mobject\u001b[0m\u001b[0;34m.\u001b[0m\u001b[0msearch\u001b[0m\u001b[0;34m(\u001b[0m\u001b[0mq\u001b[0m\u001b[0;34m,\u001b[0m \u001b[0mk\u001b[0m\u001b[0;34m)\u001b[0m\u001b[0;34m\u001b[0m\u001b[0;34m\u001b[0m\u001b[0m\n\u001b[1;32m    115\u001b[0m         \u001b[0;32melse\u001b[0m\u001b[0;34m:\u001b[0m\u001b[0;34m\u001b[0m\u001b[0;34m\u001b[0m\u001b[0m\n\u001b[0;32m--> 116\u001b[0;31m             \u001b[0mhits\u001b[0m \u001b[0;34m=\u001b[0m \u001b[0mself\u001b[0m\u001b[0;34m.\u001b[0m\u001b[0mobject\u001b[0m\u001b[0;34m.\u001b[0m\u001b[0msearch\u001b[0m\u001b[0;34m(\u001b[0m\u001b[0mJString\u001b[0m\u001b[0;34m(\u001b[0m\u001b[0mq\u001b[0m\u001b[0;34m.\u001b[0m\u001b[0mencode\u001b[0m\u001b[0;34m(\u001b[0m\u001b[0;34m'utf8'\u001b[0m\u001b[0;34m)\u001b[0m\u001b[0;34m)\u001b[0m\u001b[0;34m,\u001b[0m \u001b[0mk\u001b[0m\u001b[0;34m)\u001b[0m\u001b[0;34m\u001b[0m\u001b[0;34m\u001b[0m\u001b[0m\n\u001b[0m\u001b[1;32m    117\u001b[0m \u001b[0;34m\u001b[0m\u001b[0m\n\u001b[1;32m    118\u001b[0m         \u001b[0mdocids\u001b[0m \u001b[0;34m=\u001b[0m \u001b[0mset\u001b[0m\u001b[0;34m(\u001b[0m\u001b[0;34m)\u001b[0m\u001b[0;34m\u001b[0m\u001b[0;34m\u001b[0m\u001b[0m\n",
      "\u001b[0;32mjnius/jnius_export_class.pxi\u001b[0m in \u001b[0;36mjnius.JavaMultipleMethod.__call__\u001b[0;34m()\u001b[0m\n",
      "\u001b[0;32mjnius/jnius_export_class.pxi\u001b[0m in \u001b[0;36mjnius.JavaMethod.__call__\u001b[0;34m()\u001b[0m\n",
      "\u001b[0;32mjnius/jnius_export_class.pxi\u001b[0m in \u001b[0;36mjnius.JavaMethod.call_method\u001b[0;34m()\u001b[0m\n",
      "\u001b[0;32mjnius/jnius_conversion.pxi\u001b[0m in \u001b[0;36mjnius.convert_jarray_to_python\u001b[0;34m()\u001b[0m\n",
      "\u001b[0;32mjnius/jnius_conversion.pxi\u001b[0m in \u001b[0;36mjnius.convert_jobject_to_python\u001b[0;34m()\u001b[0m\n",
      "\u001b[0;32m~/anaconda3/envs/IR/lib/python3.9/importlib/_bootstrap.py\u001b[0m in \u001b[0;36mparent\u001b[0;34m(self)\u001b[0m\n",
      "\u001b[0;31mKeyboardInterrupt\u001b[0m: "
     ]
    }
   ],
   "source": [
    "#k = nro. results per topic\n",
    "#n = nro. extra words\n",
    "\n",
    "\n",
    "\n",
    "\n",
    "# make_results(wiki_300, 0, k=1000 ) # no expanded query\n",
    "# make_results(wiki_300, 'x', dynamic=True, k=1000)\n",
    "def make_relevancefeedback_results(model, k=25, top_docs=10):\n",
    "    results = \"\"\n",
    "    topics = get_topics(topics_path)\n",
    "    for i in tqdm(topics):\n",
    "        ranking = \"\"\n",
    "        expanded_topic = expand_query_using_relevance_feedback(model, topics[i], top_docs=top_docs)\n",
    "        # hits = Searcher.search(expanded_topic, k=k)\n",
    "        extra_words_count = 0;\n",
    "        for word in topics[i].split():\n",
    "            if word not in stopwords.words('english'):\n",
    "                extra_words_count+=1\n",
    "        hits = Searcher.weighted_search(expanded_topic, k, len(expanded_topic.split())-extra_words_count, (1.0, 0.5))\n",
    "        for r, h in enumerate(hits):\n",
    "            ranking += f\"{i} 0 {h.docid} {r+1} {h.score} RUN1\\n\"\n",
    "        results += ranking\n",
    "        \n",
    "    filename = f\"relevance_feedback_results/results_{top_docs}.txt\"\n",
    "    f = open(filename, 'w')\n",
    "    f.write(results)\n",
    "    f.close()\n",
    "        \n",
    "make_relevancefeedback_results(wiki_300, k=1000, top_docs=10) "
   ]
  },
  {
   "cell_type": "code",
   "execution_count": 37,
   "metadata": {},
   "outputs": [
    {
     "name": "stdout",
     "output_type": "stream",
     "text": [
      "ndcg_0@1  0.552\n",
      "recall_0@1 0.027064048526624005\n",
      "-----------\n",
      "ndcg_0@5  0.5130877014278695\n",
      "recall_0@5 0.11534223207877335\n",
      "-----------\n",
      "ndcg_0@10  0.47710895495501693\n",
      "recall_0@10 0.18188603903429035\n",
      "-----------\n",
      "ndcg_0@25  0.43750194853180036\n",
      "recall_0@25 0.29842566152496647\n",
      "-----------\n",
      "ndcg_0@100  0.4881211795501935\n",
      "recall_0@100 0.550466939579347\n",
      "-----------\n",
      "ndcg_0@200  0.546957195792057\n",
      "recall_0@200 0.6875048288164866\n",
      "-----------\n",
      "ndcg_0@300  0.5831085484008359\n",
      "recall_0@300 0.7723690801778619\n",
      "-----------\n"
     ]
    }
   ],
   "source": [
    "precision_0 = 0\n",
    "ks = [1, 5, 10, 25, 100,200, 300]\n",
    "\n",
    "for k in ks:\n",
    "    ndcg_0 = 0\n",
    "    recall_0 = 0\n",
    "    labels_gen = query_labels_from_file(qrels_path, f'results/results_0_1000_0.0.txt')\n",
    "    r = 0\n",
    "    for labels in labels_gen:\n",
    "        ndcg_0+=NDCG(labels, k)\n",
    "        recall_0 += recall(labels, k)\n",
    "        r+=1\n",
    "    print(f\"ndcg_0@{k}  {ndcg_0/r}\")\n",
    "    print(f\"recall_0@{k} {recall_0/r}\")\n",
    "    print(\"-----------\")"
   ]
  },
  {
   "cell_type": "code",
   "execution_count": 38,
   "metadata": {},
   "outputs": [
    {
     "name": "stdout",
     "output_type": "stream",
     "text": [
      "ndcg_x@1 0.5\n",
      "recall_x@1 0.02448819681811842\n",
      "-----------\n",
      "ndcg_x@5 0.4434274095660764\n",
      "recall_x@5 0.0991372701455052\n",
      "-----------\n",
      "ndcg_x@10 0.4146531700022015\n",
      "recall_x@10 0.16191717410800308\n",
      "-----------\n",
      "ndcg_x@25 0.38933405421848677\n",
      "recall_x@25 0.2779996235177552\n",
      "-----------\n",
      "ndcg_x@100 0.4362074222107831\n",
      "recall_x@100 0.5059767816469565\n",
      "-----------\n",
      "ndcg_x@200 0.4932198261456034\n",
      "recall_x@200 0.6387332035018032\n",
      "-----------\n",
      "ndcg_x@300 0.5289282177717878\n",
      "recall_x@300 0.7196643530145901\n",
      "-----------\n"
     ]
    }
   ],
   "source": [
    "precision_x = 0\n",
    "\n",
    "\n",
    "for k in ks:\n",
    "    ndcg_x = 0\n",
    "    recall_x = 0\n",
    "    labels_gen = query_labels_from_file(qrels_path, f'results/results_x_1000_0.0.txt')\n",
    "    r = 0\n",
    "    for labels in labels_gen:\n",
    "        ndcg_x += NDCG(labels, k)\n",
    "        recall_x += recall(labels, k)\n",
    "        r+=1\n",
    "     \n",
    "    print(f\"ndcg_x@{k} {ndcg_x/r}\")\n",
    "    print(f\"recall_x@{k} {recall_x/r}\")\n",
    "    print(\"-----------\")\n"
   ]
  },
  {
   "cell_type": "code",
   "execution_count": 29,
   "metadata": {},
   "outputs": [
    {
     "name": "stdout",
     "output_type": "stream",
     "text": [
      "ndcg_relevance_feedback@1 0.52\n",
      "recall_relevance_feedback@1 0.024944984636676354\n",
      "-----------\n",
      "ndcg_relevance_feedback@5 0.4663774167387816\n",
      "recall_relevance_feedback@5 0.10550456951743935\n",
      "-----------\n",
      "ndcg_relevance_feedback@10 0.4313474558823501\n",
      "recall_relevance_feedback@10 0.1624608094478695\n",
      "-----------\n",
      "ndcg_relevance_feedback@25 0.4005016355950077\n",
      "recall_relevance_feedback@25 0.27547409630539477\n",
      "-----------\n",
      "ndcg_relevance_feedback@100 0.44708928845374113\n",
      "recall_relevance_feedback@100 0.504578449162802\n",
      "-----------\n",
      "ndcg_relevance_feedback@200 0.5027170398696538\n",
      "recall_relevance_feedback@200 0.6373877844122108\n",
      "-----------\n",
      "ndcg_relevance_feedback@300 0.5368036242116585\n",
      "recall_relevance_feedback@300 0.7158612115260511\n",
      "-----------\n"
     ]
    }
   ],
   "source": [
    "precision_relevance_feedback = 0\n",
    "\n",
    "p = 10\n",
    "\n",
    "for k in ks:\n",
    "    ndcg_relevance_feedback = 0\n",
    "    recall_relevance_feedback = 0\n",
    "    labels_gen = query_labels_from_file(qrels_path, f\"relevance_feedback_results/results_{p}.txt\")\n",
    "    r = 0\n",
    "    for labels in labels_gen:\n",
    "        ndcg_relevance_feedback += NDCG(labels, k)\n",
    "        recall_relevance_feedback += recall(labels, k)\n",
    "        r+=1\n",
    "        \n",
    "    print(f\"ndcg_relevance_feedback@{k} {ndcg_relevance_feedback/r}\")\n",
    "    print(f\"recall_relevance_feedback@{k} {recall_relevance_feedback/r}\")\n",
    "    print(\"-----------\")\n",
    "\n"
   ]
  },
  {
   "cell_type": "code",
   "execution_count": null,
   "metadata": {},
   "outputs": [],
   "source": []
  }
 ],
 "metadata": {
  "interpreter": {
   "hash": "916dbcbb3f70747c44a77c7bcd40155683ae19c65e1c03b4aa3499c5328201f1"
  },
  "kernelspec": {
   "display_name": "Python 3 (ipykernel)",
   "language": "python",
   "name": "python3"
  },
  "language_info": {
   "codemirror_mode": {
    "name": "ipython",
    "version": 3
   },
   "file_extension": ".py",
   "mimetype": "text/x-python",
   "name": "python",
   "nbconvert_exporter": "python",
   "pygments_lexer": "ipython3",
   "version": "3.9.7"
  }
 },
 "nbformat": 4,
 "nbformat_minor": 2
}
