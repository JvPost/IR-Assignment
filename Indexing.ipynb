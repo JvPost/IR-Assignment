{
  "nbformat": 4,
  "nbformat_minor": 0,
  "metadata": {
    "colab": {
      "name": "Indexing.ipynb",
      "provenance": [],
      "collapsed_sections": []
    },
    "kernelspec": {
      "name": "python3",
      "display_name": "Python 3"
    },
    "language_info": {
      "name": "python"
    }
  },
  "cells": [
    {
      "cell_type": "markdown",
      "metadata": {
        "id": "HcuEHtGFoOqt"
      },
      "source": [
        "# Indexing excercise \n",
        "\n",
        "In this excercise, we are going to index the [MS MARCO](http://www.msmarco.org/) passage collection and explore some features of the index.\n",
        "\n",
        "We use [Anserini](https://github.com/castorini/anserini]) toolkit and its python interface [Pyserini](https://github.com/castorini/pyserini)  to run our experiments. \n",
        "\n",
        "***This notebook is created based on Anserini/Pyserini tutorials. You can learn more by checking their repositories and tutorials.* "
      ]
    },
    {
      "cell_type": "markdown",
      "metadata": {
        "id": "egQ3UlHWpj0K"
      },
      "source": [
        "## 1. Setup the environmet\n",
        "\n"
      ]
    },
    {
      "cell_type": "markdown",
      "metadata": {
        "id": "CzPu9N_Md8iB"
      },
      "source": [
        "Install Pyserini via PyPI:"
      ]
    },
    {
      "cell_type": "code",
      "metadata": {
        "id": "kqQkZ_1cqjVJ"
      },
      "source": [
        "pip install pyserini"
      ],
      "execution_count": null,
      "outputs": []
    },
    {
      "cell_type": "markdown",
      "metadata": {
        "id": "TuqRujlSfnTS"
      },
      "source": [
        "Clone the Ansirini repository from GitHub:"
      ]
    },
    {
      "cell_type": "code",
      "metadata": {
        "id": "8Gk8iQNMZASg"
      },
      "source": [
        "!git clone https://github.com/castorini/anserini.git\n",
        "!cd anserini && git checkout ad5ba1c76196436f8a0e28efdb69960d4873efe3"
      ],
      "execution_count": null,
      "outputs": []
    },
    {
      "cell_type": "markdown",
      "metadata": {
        "id": "DcU5a-ETrqnT"
      },
      "source": [
        "## 2. Get the collection and prepare the files\n",
        "MS MARCO (MicroSoft MAchine Reading COmprehension) is a large-scale dataset that defines many tasks from question answering to ranking. Here we focus on the collection designed for passage re-ranking."
      ]
    },
    {
      "cell_type": "code",
      "metadata": {
        "id": "_AJ8rwE1SIEZ"
      },
      "source": [
        "!wget https://msmarco.blob.core.windows.net/msmarcoranking/collection.tar.gz -P data/msmarco_passage/"
      ],
      "execution_count": null,
      "outputs": []
    },
    {
      "cell_type": "code",
      "metadata": {
        "id": "SLxsYuTESft4"
      },
      "source": [
        "!ls data/msmarco_passage/ \n",
        "!tar xvfz data/msmarco_passage/collection.tar.gz -C data/msmarco_passage"
      ],
      "execution_count": null,
      "outputs": []
    },
    {
      "cell_type": "markdown",
      "metadata": {
        "id": "TtK9rHMOwjYx"
      },
      "source": [
        "The original MS MARCO collection is a tab-separated values (TSV) file. We need to convert the collection into the jsonl format that can be processed by Anserini. jsonl files contain JSON object per line.\n",
        "\n",
        "This command generates 9 jsonl files in your data/msmarco_passage/collection_jsonl directory, each with 1M lines (except for the last one, which should have 841,823 lines)."
      ]
    },
    {
      "cell_type": "code",
      "metadata": {
        "id": "QX-GNGyLZzN2"
      },
      "source": [
        "!cd anserini && python ./src/main/python/msmarco/convert_collection_to_jsonl.py \\\n",
        " --collection_path ../data/msmarco_passage/collection.tsv --output_folder ../data/msmarco_passage/collection_jsonl\n"
      ],
      "execution_count": null,
      "outputs": []
    },
    {
      "cell_type": "markdown",
      "metadata": {
        "id": "ZDXFZHf_5lR-"
      },
      "source": [
        "**Check the data!**\n",
        "\n",
        "jsonl files are JSON files with keys id and contents:"
      ]
    },
    {
      "cell_type": "code",
      "metadata": {
        "id": "rv0gF3srw39p"
      },
      "source": [
        "!wc -l data/msmarco_passage/collection_jsonl/*"
      ],
      "execution_count": null,
      "outputs": []
    },
    {
      "cell_type": "code",
      "metadata": {
        "id": "X3hFwpsg5DC8"
      },
      "source": [
        "!head -5 data/msmarco_passage/collection_jsonl/docs00.json"
      ],
      "execution_count": null,
      "outputs": []
    },
    {
      "cell_type": "markdown",
      "metadata": {
        "id": "FAu65qTQ6KNz"
      },
      "source": [
        "Remove the original files to make room for the index. \n",
        "Check the contents of `data/msmarco_passage` before and after."
      ]
    },
    {
      "cell_type": "code",
      "metadata": {
        "id": "85ZW8BUt6JOK"
      },
      "source": [
        "!ls data/msmarco_passage\n",
        "!rm data/msmarco_passage/*.tsv\n",
        "!ls data/msmarco_passage\n",
        "!rm -rf sample_data"
      ],
      "execution_count": null,
      "outputs": []
    },
    {
      "cell_type": "markdown",
      "metadata": {
        "id": "Uf4Kxgpq6vna"
      },
      "source": [
        "## 3. Generate the index\n",
        "Some common indexing options with Anserini:\n",
        "\n",
        "* input: Path to collection\n",
        "* threads: Number of threads to run\n",
        "* collection: Type of Anserini Collection, e.g., LuceneDocumentGenerator, TweetGenerator (subclass of LuceneDocumentGenerator for TREC Microblog)\n",
        "* index: Path to index output\n",
        "* storePositions: Boolean flag to store positions\n",
        "* storeDocvectors: Boolean flag to store document vbectors\n",
        "* storeRawDocs: Boolean flag to store raw document text\n",
        "* keepStopwords: Boolean flag to keep stopwords (False by default)\n",
        "* stemmer: Stemmer to use (Porter by default)\n",
        "\n",
        "We now have everything in place to index the collection. The indexing speed may vary,the process takes about 10 minutes in Google colab.\n",
        "\n",
        "\n"
      ]
    },
    {
      "cell_type": "code",
      "metadata": {
        "id": "o9xTzmbP7J1u"
      },
      "source": [
        "!python -m pyserini.index -collection JsonCollection -generator DefaultLuceneDocumentGenerator -threads 9 \\\n",
        "-input data/msmarco_passage/collection_jsonl -index indexes/lucene-index-msmarco-passage -storePositions -storeDocvectors -storeRaw"
      ],
      "execution_count": null,
      "outputs": []
    },
    {
      "cell_type": "markdown",
      "metadata": {
        "id": "XWl9RgbZ7dSv"
      },
      "source": [
        "Check the size of the index at the specified destination:"
      ]
    },
    {
      "cell_type": "code",
      "metadata": {
        "id": "0_Nigxvr8DIK"
      },
      "source": [
        "!ls indexes\n",
        "!du -h indexes/lucene-index-msmarco-passage"
      ],
      "execution_count": null,
      "outputs": []
    },
    {
      "cell_type": "markdown",
      "metadata": {
        "id": "IZMAtCEE-f0q"
      },
      "source": [
        "##4. Explore the index\n",
        "\n",
        "We can now explore the index using the The IndexReader class of Pyserini. \n",
        "\n",
        "Read [Usage of the Index Reader API](https://github.com/castorini/pyserini/blob/master/docs/usage-indexreader.md) notebook for more information on accessing and manipulating an inverted index."
      ]
    },
    {
      "cell_type": "code",
      "metadata": {
        "id": "Pf0oDQfgp7l-"
      },
      "source": [
        "from pyserini.index import IndexReader\n",
        "\n",
        "index_reader = IndexReader('indexes/lucene-index-msmarco-passage')"
      ],
      "execution_count": 11,
      "outputs": []
    },
    {
      "cell_type": "markdown",
      "metadata": {
        "id": "-bI2092DyZ94"
      },
      "source": [
        "Compute the collection and document frequencies of a term:"
      ]
    },
    {
      "cell_type": "code",
      "metadata": {
        "id": "pCLM4LYQqRQ9"
      },
      "source": [
        "term = 'played'\n",
        "\n",
        "# Look up its document frequency (df) and collection frequency (cf).\n",
        "# Note, we use the unanalyzed form:\n",
        "df, cf = index_reader.get_term_counts(term)\n",
        "\n",
        "analyzed_form = index_reader.analyze(term)\n",
        "print(f'Analyzed form of term \"{analyzed_form[0]}\": df={df}, cf={cf}')"
      ],
      "execution_count": null,
      "outputs": []
    },
    {
      "cell_type": "markdown",
      "metadata": {
        "id": "ZMwpOyMTulz2"
      },
      "source": [
        "Get basic index statistics of the index.\n",
        "\n",
        "Note that unless the underlying index was built with the `-optimize` option (i.e., merging all index segments into a single segment), unique_terms will show -1 (nope, that's not a bug)."
      ]
    },
    {
      "cell_type": "code",
      "metadata": {
        "id": "b_PeXpvwuXmM"
      },
      "source": [
        "index_reader.stats()"
      ],
      "execution_count": null,
      "outputs": []
    },
    {
      "cell_type": "markdown",
      "metadata": {
        "id": "5zwI-Qlmu_RS"
      },
      "source": [
        "Get the postings list of a term, and traverse postings.\n",
        "\n",
        "\n",
        "\n"
      ]
    },
    {
      "cell_type": "code",
      "metadata": {
        "id": "saZQa6Qgu-L2"
      },
      "source": [
        "term = \"played\"\n",
        "\n",
        "postings_list = index_reader.get_postings_list(term)\n",
        "for posting in postings_list:\n",
        "    print(f'docid={posting.docid}, tf={posting.tf}, pos={posting.positions}')"
      ],
      "execution_count": null,
      "outputs": []
    }
  ]
}