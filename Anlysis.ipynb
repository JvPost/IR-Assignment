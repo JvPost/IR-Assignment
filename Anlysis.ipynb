{
 "cells": [
  {
   "cell_type": "code",
   "execution_count": 34,
   "metadata": {},
   "outputs": [
    {
     "data": {
      "text/plain": [
       "'anserini/indexes/lucene-index.robust04.pos+docvectors+raw'"
      ]
     },
     "execution_count": 34,
     "metadata": {},
     "output_type": "execute_result"
    }
   ],
   "source": [
    "from pyserini.index import IndexReader \n",
    "from pyserini.search import SimpleSearcher\n",
    "import spacy\n",
    "import json\n",
    "\n",
    "nlp = spacy.load('en_core_web_sm', disable=['parser', 'ner'])\n",
    "nlp.max_length = 40000000\n",
    "config = json.loads(open(\"config.json\", \"r\").read())\n",
    "index_path = config[\"index_path\"]\n",
    "index_path"
   ]
  },
  {
   "cell_type": "code",
   "execution_count": 38,
   "metadata": {},
   "outputs": [
    {
     "name": "stdout",
     "output_type": "stream",
     "text": [
      "COllection length = 174540872\n",
      "96\n",
      "96\n",
      "96\n",
      "0 LA071090-0047\n",
      "1 FT934-5418\n",
      "2 FT921-7107\n",
      "3 LA052890-0021\n",
      "4 LA070990-0052\n",
      "5 LA062990-0180\n",
      "6 LA070890-0154\n",
      "7 FT934-2516\n",
      "8 LA041090-0148\n",
      "9 FT944-128\n"
     ]
    }
   ],
   "source": [
    "index_reader = IndexReader(index_path)\n",
    "searcher = SimpleSearcher(index_path)\n",
    "sample_topic = \"hubble space telescope\"\n",
    "\n",
    "global len_C\n",
    "len_C = index_reader.stats()['total_terms']\n",
    "print(\"Collection length =\", len_C)\n",
    "\n",
    "sample_topic_arr = index_reader.analyze(sample_topic)\n",
    "hits = searcher.search(sample_topic)\n",
    "\n",
    "for s in sample_topic_arr:\n",
    "    print(len(nlp(s).vector))\n",
    "    \n",
    "for idx, h in enumerate(hits):\n",
    "    print(idx, h.docid)"
   ]
  },
  {
   "cell_type": "code",
   "execution_count": null,
   "metadata": {},
   "outputs": [],
   "source": []
  }
 ],
 "metadata": {
  "interpreter": {
   "hash": "916dbcbb3f70747c44a77c7bcd40155683ae19c65e1c03b4aa3499c5328201f1"
  },
  "kernelspec": {
   "display_name": "Python 3.8.10 64-bit",
   "language": "python",
   "name": "python3"
  },
  "language_info": {
   "codemirror_mode": {
    "name": "ipython",
    "version": 3
   },
   "file_extension": ".py",
   "mimetype": "text/x-python",
   "name": "python",
   "nbconvert_exporter": "python",
   "pygments_lexer": "ipython3",
   "version": "3.9.7"
  },
  "orig_nbformat": 4
 },
 "nbformat": 4,
 "nbformat_minor": 2
}
