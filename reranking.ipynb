{
 "cells": [
  {
   "cell_type": "code",
   "execution_count": 8,
   "metadata": {},
   "outputs": [],
   "source": [
    "from gensim.models.word2vec import Word2Vec\n",
    "import gensim.downloader as api\n",
    "from gensim.models import KeyedVectors\n",
    "import nltk\n",
    "from nltk.corpus import stopwords\n",
    "from nltk.stem import PorterStemmer\n",
    "from nltk.tokenize import word_tokenize\n",
    "import numpy as np\n",
    "from collections import OrderedDict\n",
    "\n",
    "from utils import *\n",
    "\n",
    "\n",
    "\n"
   ]
  },
  {
   "cell_type": "code",
   "execution_count": 3,
   "metadata": {},
   "outputs": [],
   "source": [
    "wiki_300 = KeyedVectors.load_word2vec_format('~/gensim-data/glove-wiki-gigaword-300/glove-wiki-gigaword-300.txt', binary=False)"
   ]
  },
  {
   "cell_type": "code",
   "execution_count": 4,
   "metadata": {},
   "outputs": [
    {
     "data": {
      "text/plain": [
       "['organised',\n",
       " 'criminal',\n",
       " 'murder',\n",
       " 'trafficking',\n",
       " 'global',\n",
       " 'terrorism',\n",
       " 'murders',\n",
       " 'gang',\n",
       " 'violence',\n",
       " 'sponsored',\n",
       " 'world',\n",
       " 'criminals',\n",
       " 'participated',\n",
       " 'homicide',\n",
       " 'groups',\n",
       " 'corruption',\n",
       " 'activities',\n",
       " 'gangs',\n",
       " 'mafia',\n",
       " 'violent',\n",
       " 'robbery',\n",
       " 'participating',\n",
       " 'enforcement',\n",
       " 'hate',\n",
       " 'nations',\n",
       " 'killings',\n",
       " 'drug',\n",
       " 'based',\n",
       " 'staged',\n",
       " 'prostitution']"
      ]
     },
     "execution_count": 4,
     "metadata": {},
     "output_type": "execute_result"
    }
   ],
   "source": [
    "topic = 'international organized crime'\n",
    "\n",
    "similar_words = expand_query(topic, wiki_300, 30).split()[3:]\n",
    "similar_words"
   ]
  },
  {
   "cell_type": "markdown",
   "metadata": {},
   "source": [
    "# Relevance model"
   ]
  },
  {
   "cell_type": "code",
   "execution_count": 5,
   "metadata": {},
   "outputs": [
    {
     "data": {
      "text/plain": [
       "['FBIS4-40260',\n",
       " 'FBIS4-46734',\n",
       " 'FBIS3-24145',\n",
       " 'FBIS4-39330',\n",
       " 'FBIS4-7811',\n",
       " 'FBIS3-23986',\n",
       " 'FBIS3-37418',\n",
       " 'FBIS4-41991',\n",
       " 'FBIS4-16951',\n",
       " 'FBIS4-22471']"
      ]
     },
     "execution_count": 5,
     "metadata": {},
     "output_type": "execute_result"
    }
   ],
   "source": [
    "hits = Searcher.search(topic, 10)\n",
    "ids = []\n",
    "for h in hits:\n",
    "    ids.append(h.docid)\n",
    "\n",
    "ids"
   ]
  },
  {
   "cell_type": "code",
   "execution_count": 10,
   "metadata": {},
   "outputs": [],
   "source": [
    "def merge_doc_vectors(docs):\n",
    "    tfs = dict()\n",
    "    for d in docs:\n",
    "        tf = IndexReader.reader.get_document_vector(d)\n",
    "        for k in tf:\n",
    "            if k in tfs:\n",
    "                tfs[k] += tf[k]\n",
    "            else:\n",
    "                tfs[k] = tf[k]\n",
    "    return tfs\n",
    "\n",
    "doc_vectors = merge_doc_vectors(ids)\n"
   ]
  },
  {
   "cell_type": "code",
   "execution_count": 37,
   "metadata": {},
   "outputs": [
    {
     "data": {
      "text/plain": [
       "['drug', 'world', 'murder']"
      ]
     },
     "execution_count": 37,
     "metadata": {},
     "output_type": "execute_result"
    }
   ],
   "source": [
    "\n",
    "\n",
    "def rank_words(doc_vectors, words):\n",
    "    top_words = {}\n",
    "    for w in words:\n",
    "        if w in doc_vectors:\n",
    "            if w in top_words:\n",
    "                top_words[w] += doc_vectors[w]\n",
    "            else:\n",
    "                top_words[w] = doc_vectors[w]\n",
    "    ordered_dict = dict(sorted(top_words.items(), key=lambda item: item[1], reverse=True))\n",
    "    return list(ordered_dict.keys())\n",
    "\n",
    "    \n",
    "def expand_query_using_relevance_feedback(model, topic, n = None, top_docs = 10):\n",
    "    if n is None:\n",
    "        n = len(topic.split())\n",
    "    hits = Searcher.search(topic, top_docs)\n",
    "    doc_ids = [h.docid for h in hits]\n",
    "    doc_vector = merge_doc_vectors(doc_ids)\n",
    "    top_words = []\n",
    "    itr = 1\n",
    "    while len(top_words) <= n:\n",
    "        prev_len = len(top_words)\n",
    "        new_words = expand_query(topic, model, 10*n*itr).split()[n:]\n",
    "        potentials = rank_words(doc_vector, new_words)\n",
    "        top_words += potentials[(itr-1)*n:itr*n]\n",
    "        itr+=1\n",
    "        if prev_len == len(top_words) or itr >= 10:\n",
    "            break\n",
    "        \n",
    "    return top_words[:n]\n",
    "        \n",
    "        \n",
    "        \n",
    "    \n",
    "\n",
    "expand_query_using_relevance_feedback(wiki_300, topic)\n",
    "\n",
    "        "
   ]
  }
 ],
 "metadata": {
  "interpreter": {
   "hash": "33b533c724feae116db93dea3cff419087abbc1dab325e01ba222c2a1c02ff1b"
  },
  "kernelspec": {
   "display_name": "Python 3.9.7 64-bit ('IR': conda)",
   "language": "python",
   "name": "python3"
  },
  "language_info": {
   "codemirror_mode": {
    "name": "ipython",
    "version": 3
   },
   "file_extension": ".py",
   "mimetype": "text/x-python",
   "name": "python",
   "nbconvert_exporter": "python",
   "pygments_lexer": "ipython3",
   "version": "3.9.7"
  },
  "orig_nbformat": 4
 },
 "nbformat": 4,
 "nbformat_minor": 2
}
